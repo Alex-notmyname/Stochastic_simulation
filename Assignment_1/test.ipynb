{
 "cells": [
  {
   "cell_type": "code",
   "execution_count": 1,
   "metadata": {},
   "outputs": [],
   "source": [
    "import numpy as np\n",
    "from numpy import random\n",
    "from random import randint\n",
    "import pickle\n",
    "import pandas as pd\n",
    "\n",
    "from mandelbrot import Monte_carlo_sampling, Latin_hypercube_sampling, \\\n",
    "    Orthogonal_Latin_hypercube_sampling, is_in"
   ]
  },
  {
   "cell_type": "code",
   "execution_count": 20,
   "metadata": {},
   "outputs": [],
   "source": [
    "x = pd.read_csv('test_i.csv')"
   ]
  },
  {
   "cell_type": "code",
   "execution_count": 60,
   "metadata": {},
   "outputs": [
    {
     "data": {
      "text/plain": [
       "count     1800\n",
       "unique       3\n",
       "top         MC\n",
       "freq       600\n",
       "Name: s_method, dtype: object"
      ]
     },
     "execution_count": 60,
     "metadata": {},
     "output_type": "execute_result"
    }
   ],
   "source": [
    "x.s_method.describe()"
   ]
  },
  {
   "cell_type": "code",
   "execution_count": 25,
   "metadata": {},
   "outputs": [
    {
     "data": {
      "text/html": [
       "<div>\n",
       "<style scoped>\n",
       "    .dataframe tbody tr th:only-of-type {\n",
       "        vertical-align: middle;\n",
       "    }\n",
       "\n",
       "    .dataframe tbody tr th {\n",
       "        vertical-align: top;\n",
       "    }\n",
       "\n",
       "    .dataframe thead th {\n",
       "        text-align: right;\n",
       "    }\n",
       "</style>\n",
       "<table border=\"1\" class=\"dataframe\">\n",
       "  <thead>\n",
       "    <tr style=\"text-align: right;\">\n",
       "      <th></th>\n",
       "      <th>iteration</th>\n",
       "      <th>area</th>\n",
       "      <th>repetition</th>\n",
       "      <th>s_method</th>\n",
       "    </tr>\n",
       "  </thead>\n",
       "  <tbody>\n",
       "    <tr>\n",
       "      <th>720</th>\n",
       "      <td>1</td>\n",
       "      <td>9.903557</td>\n",
       "      <td>5</td>\n",
       "      <td>MC</td>\n",
       "    </tr>\n",
       "    <tr>\n",
       "      <th>721</th>\n",
       "      <td>2</td>\n",
       "      <td>4.926017</td>\n",
       "      <td>5</td>\n",
       "      <td>MC</td>\n",
       "    </tr>\n",
       "    <tr>\n",
       "      <th>722</th>\n",
       "      <td>3</td>\n",
       "      <td>3.213221</td>\n",
       "      <td>5</td>\n",
       "      <td>MC</td>\n",
       "    </tr>\n",
       "    <tr>\n",
       "      <th>723</th>\n",
       "      <td>4</td>\n",
       "      <td>2.584902</td>\n",
       "      <td>5</td>\n",
       "      <td>MC</td>\n",
       "    </tr>\n",
       "    <tr>\n",
       "      <th>724</th>\n",
       "      <td>5</td>\n",
       "      <td>2.192832</td>\n",
       "      <td>5</td>\n",
       "      <td>MC</td>\n",
       "    </tr>\n",
       "  </tbody>\n",
       "</table>\n",
       "</div>"
      ],
      "text/plain": [
       "     iteration      area  repetition s_method\n",
       "720          1  9.903557           5       MC\n",
       "721          2  4.926017           5       MC\n",
       "722          3  3.213221           5       MC\n",
       "723          4  2.584902           5       MC\n",
       "724          5  2.192832           5       MC"
      ]
     },
     "execution_count": 25,
     "metadata": {},
     "output_type": "execute_result"
    }
   ],
   "source": [
    "x[x['repetition'] == 5].head(5)"
   ]
  },
  {
   "cell_type": "code",
   "execution_count": 11,
   "metadata": {},
   "outputs": [
    {
     "data": {
      "text/plain": [
       "array([-1.87585409-1.36841497j, -0.45691529+0.39431297j,\n",
       "        0.4418129 +0.17200238j, -0.90628484+0.03746381j,\n",
       "        0.29902045-0.09739553j, -1.95526349-1.29811847j,\n",
       "        0.11866567-1.43762509j,  0.14496247+1.25166452j,\n",
       "        1.40141849+0.36885885j, -0.69780894+0.07874112j])"
      ]
     },
     "execution_count": 11,
     "metadata": {},
     "output_type": "execute_result"
    }
   ],
   "source": [
    "x = 4 * random.random_sample(size=10) - 2  # scale from [0, 1] to [-2, 2]\n",
    "y = 4 * random.random_sample(size=10) - 2  # scale from [0, 1] to [-2, 2]\n",
    "\n",
    "c_array = x + 1j * y\n",
    "c_array"
   ]
  },
  {
   "cell_type": "code",
   "execution_count": 46,
   "metadata": {},
   "outputs": [],
   "source": [
    "num = 1000\n",
    "n_samples = num**2\n",
    "\n",
    "M = np.arange(start=0, stop=n_samples, step=1, dtype=int).reshape((num, num))"
   ]
  },
  {
   "cell_type": "code",
   "execution_count": 47,
   "metadata": {},
   "outputs": [
    {
     "name": "stdout",
     "output_type": "stream",
     "text": [
      "done\n",
      "CPU times: total: 0 ns\n",
      "Wall time: 20.7 ms\n"
     ]
    }
   ],
   "source": [
    "%%time\n",
    "rng = np.random.default_rng()\n",
    "x_list = rng.permuted(M, axis=1)\n",
    "print('done')"
   ]
  },
  {
   "cell_type": "code",
   "execution_count": 50,
   "metadata": {},
   "outputs": [],
   "source": [
    "from random import shuffle"
   ]
  },
  {
   "cell_type": "code",
   "execution_count": 51,
   "metadata": {},
   "outputs": [
    {
     "name": "stdout",
     "output_type": "stream",
     "text": [
      "done\n",
      "CPU times: total: 438 ms\n",
      "Wall time: 1.17 s\n"
     ]
    }
   ],
   "source": [
    "%%time\n",
    "for i in range(len(M)):\n",
    "    shuffle(M)\n",
    "print('done')"
   ]
  },
  {
   "cell_type": "code",
   "execution_count": 117,
   "metadata": {},
   "outputs": [
    {
     "data": {
      "text/plain": [
       "array([-1.72509198, -1.40985714, -1.25360121, -1.0802683 , -0.96879627,\n",
       "       -0.7688011 , -0.58838328, -0.22676477, -0.079777  ])"
      ]
     },
     "execution_count": 117,
     "metadata": {},
     "output_type": "execute_result"
    }
   ],
   "source": [
    "num = 3\n",
    "x_list = np.array([[1,2,3], [4,5,6], [7,8,9]])\n",
    "scales = 0.2\n",
    "\n",
    "random.seed(42)\n",
    "x = -2 + scales * (x_list.flatten() + random.random_sample(size=num**2))\n",
    "x"
   ]
  },
  {
   "cell_type": "code",
   "execution_count": 24,
   "metadata": {},
   "outputs": [
    {
     "name": "stdout",
     "output_type": "stream",
     "text": [
      "done\n",
      "CPU times: total: 0 ns\n",
      "Wall time: 1 ms\n"
     ]
    }
   ],
   "source": [
    "%%time\n",
    "a = Orthogonal_Latin_hypercube_sampling(100)\n",
    "print('done')"
   ]
  },
  {
   "cell_type": "code",
   "execution_count": 25,
   "metadata": {},
   "outputs": [
    {
     "name": "stdout",
     "output_type": "stream",
     "text": [
      "done\n",
      "CPU times: total: 0 ns\n",
      "Wall time: 1 ms\n"
     ]
    }
   ],
   "source": [
    "%%time\n",
    "a = Latin_hypercube_sampling(100)\n",
    "print('done')"
   ]
  },
  {
   "cell_type": "code",
   "execution_count": 26,
   "metadata": {},
   "outputs": [
    {
     "name": "stdout",
     "output_type": "stream",
     "text": [
      "done\n",
      "CPU times: total: 0 ns\n",
      "Wall time: 1.06 ms\n"
     ]
    }
   ],
   "source": [
    "%%time\n",
    "a = Monte_carlo_sampling(100)\n",
    "print('done')"
   ]
  },
  {
   "cell_type": "code",
   "execution_count": 2,
   "metadata": {},
   "outputs": [
    {
     "data": {
      "image/png": "[encoded data removed]",
      "text/plain": [
       "<Figure size 400x400 with 1 Axes>"
      ]
     },
     "metadata": {},
     "output_type": "display_data"
    }
   ],
   "source": [
    "import matplotlib.pyplot as plt\n",
    "\n",
    "a = Orthogonal_Latin_hypercube_sampling(100)\n",
    "\n",
    "# extract real part\n",
    "x = [ele.real for ele in a]\n",
    "# extract imaginary part\n",
    "y = [ele.imag for ele in a]\n",
    "\n",
    "plt.rcParams['figure.figsize'] = (4,4)\n",
    "plt.scatter(x, y, marker='.')\n",
    "plt.show()"
   ]
  },
  {
   "cell_type": "code",
   "execution_count": 13,
   "metadata": {},
   "outputs": [],
   "source": [
    "def orthogonal(ns):\n",
    "    n = int(np.sqrt(ns))\n",
    "    \n",
    "    points = []\n",
    "    append = points.append\n",
    "    for rowblock in np.arange(-ns, ns, 2*n):\n",
    "        for columnblock in np.arange(-ns, ns, 2*n):\n",
    "            i = random.choice(range(rowblock, rowblock + n))*2/ns\n",
    "            j = random.choice(range(columnblock, columnblock + n))*2/ns\n",
    "            c = complex(i, j)\n",
    "            append(c)\n",
    "    return points"
   ]
  },
  {
   "cell_type": "code",
   "execution_count": 14,
   "metadata": {},
   "outputs": [
    {
     "name": "stdout",
     "output_type": "stream",
     "text": [
      "CPU times: total: 234 ms\n",
      "Wall time: 307 ms\n"
     ]
    }
   ],
   "source": [
    "%%time\n",
    "complexlist = orthogonal(10000)"
   ]
  },
  {
   "cell_type": "code",
   "execution_count": null,
   "metadata": {},
   "outputs": [],
   "source": []
  }
 ],
 "metadata": {
  "kernelspec": {
   "display_name": "Python 3.9.7 64-bit",
   "language": "python",
   "name": "python3"
  },
  "language_info": {
   "codemirror_mode": {
    "name": "ipython",
    "version": 3
   },
   "file_extension": ".py",
   "mimetype": "text/x-python",
   "name": "python",
   "nbconvert_exporter": "python",
   "pygments_lexer": "ipython3",
   "version": "3.9.7"
  },
  "orig_nbformat": 4,
  "vscode": {
   "interpreter": {
    "hash": "61d78b88c669c087ea84009c87f435080b66ea52ffb4eac29e2a7f2a91dfed40"
   }
  }
 },
 "nbformat": 4,
 "nbformat_minor": 2
}
